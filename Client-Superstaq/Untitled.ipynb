{
 "cells": [
  {
   "cell_type": "code",
   "execution_count": 1,
   "id": "bd5a6df3-b1b8-4261-9956-d4133bf1774d",
   "metadata": {},
   "outputs": [],
   "source": [
    "import qiskit\n",
    "import qiskit_superstaq as qss\n",
    "import supermarq"
   ]
  },
  {
   "cell_type": "code",
   "execution_count": 2,
   "id": "4c4c726a-51d8-423f-b282-4288c28a2f65",
   "metadata": {},
   "outputs": [],
   "source": [
    "from qiskit.providers.basic_provider import basic_simulator"
   ]
  },
  {
   "cell_type": "code",
   "execution_count": 3,
   "id": "9d170377-b6bf-4cd1-a46d-b4ba2a417f79",
   "metadata": {},
   "outputs": [],
   "source": [
    "backend = basic_simulator.BasicSimulator()"
   ]
  },
  {
   "cell_type": "markdown",
   "id": "10da688a-5ca2-4241-a6ed-cb96e848fefe",
   "metadata": {},
   "source": [
    "# GHZ"
   ]
  },
  {
   "cell_type": "code",
   "execution_count": 4,
   "id": "ee73bb9d-9c2e-41d0-8150-ca5db58a3374",
   "metadata": {},
   "outputs": [
    {
     "data": {
      "text/html": [
       "<pre style=\"word-wrap: normal;white-space: pre;background: #fff0;line-height: 1.1;font-family: &quot;Courier New&quot;,Courier,monospace\">     ┌───┐          ┌─┐                      \n",
       "q_0: ┤ H ├──■───────┤M├──────────────────────\n",
       "     └───┘┌─┴─┐     └╥┘     ┌─┐              \n",
       "q_1: ─────┤ X ├──■───╫──────┤M├──────────────\n",
       "          └───┘┌─┴─┐ ║      └╥┘     ┌─┐      \n",
       "q_2: ──────────┤ X ├─╫───■───╫──────┤M├──────\n",
       "               └───┘ ║ ┌─┴─┐ ║      └╥┘┌─┐   \n",
       "q_3: ────────────────╫─┤ X ├─╫───■───╫─┤M├───\n",
       "                     ║ └───┘ ║ ┌─┴─┐ ║ └╥┘┌─┐\n",
       "q_4: ────────────────╫───────╫─┤ X ├─╫──╫─┤M├\n",
       "                     ║       ║ └───┘ ║  ║ └╥┘\n",
       "c: 5/════════════════╩═══════╩═══════╩══╩══╩═\n",
       "                     0       1       2  3  4 </pre>"
      ],
      "text/plain": [
       "     ┌───┐          ┌─┐                      \n",
       "q_0: ┤ H ├──■───────┤M├──────────────────────\n",
       "     └───┘┌─┴─┐     └╥┘     ┌─┐              \n",
       "q_1: ─────┤ X ├──■───╫──────┤M├──────────────\n",
       "          └───┘┌─┴─┐ ║      └╥┘     ┌─┐      \n",
       "q_2: ──────────┤ X ├─╫───■───╫──────┤M├──────\n",
       "               └───┘ ║ ┌─┴─┐ ║      └╥┘┌─┐   \n",
       "q_3: ────────────────╫─┤ X ├─╫───■───╫─┤M├───\n",
       "                     ║ └───┘ ║ ┌─┴─┐ ║ └╥┘┌─┐\n",
       "q_4: ────────────────╫───────╫─┤ X ├─╫──╫─┤M├\n",
       "                     ║       ║ └───┘ ║  ║ └╥┘\n",
       "c: 5/════════════════╩═══════╩═══════╩══╩══╩═\n",
       "                     0       1       2  3  4 "
      ]
     },
     "execution_count": 4,
     "metadata": {},
     "output_type": "execute_result"
    }
   ],
   "source": [
    "ghz = supermarq.ghz.GHZ(5)\n",
    "ghz_ckt = ghz.qiskit_circuit()\n",
    "ghz_ckt.draw()"
   ]
  },
  {
   "cell_type": "code",
   "execution_count": 5,
   "id": "9718a921-15b4-4b69-b4cd-377a8dcfc3f0",
   "metadata": {},
   "outputs": [],
   "source": [
    "from supermarq.benchmarks import GHZ,BitCode,HamiltonianSimulation,MerminBell,PhaseCode,QAOAFermionicSwapProxy,QAOAVanillaProxy,VQEProxy"
   ]
  },
  {
   "cell_type": "code",
   "execution_count": 6,
   "id": "19e2c95f-8b82-4e2f-86d4-a6c79aa813bc",
   "metadata": {},
   "outputs": [],
   "source": [
    "num_data_qubits = 3\n",
    "num_rounds = 1\n",
    "bit_state = [1, 1, 1]\n",
    "bc =  BitCode(num_data_qubits, num_rounds, bit_state)"
   ]
  },
  {
   "cell_type": "code",
   "execution_count": 7,
   "id": "4033ce3a-ed5d-41e6-b105-2ee79ab25a3f",
   "metadata": {},
   "outputs": [
    {
     "data": {
      "text/html": [
       "<pre style=\"word-wrap: normal;white-space: pre;background: #fff0;line-height: 1.1;font-family: &quot;Courier New&quot;,Courier,monospace\">              ┌───┐          ┌─┐                      \n",
       "         q_0: ┤ X ├──■───────┤M├──────────────────────\n",
       "              └───┘┌─┴─┐┌───┐└╥┘┌─┐             ┌─┐   \n",
       "         q_1: ─────┤ X ├┤ X ├─╫─┤M├─|0>─────────┤M├───\n",
       "              ┌───┐└───┘└─┬─┘ ║ └╥┘     ┌─┐     └╥┘   \n",
       "         q_2: ┤ X ├──■────■───╫──╫──────┤M├──────╫────\n",
       "              └───┘┌─┴─┐┌───┐ ║  ║  ┌─┐ └╥┘      ║ ┌─┐\n",
       "         q_3: ─────┤ X ├┤ X ├─╫──╫──┤M├──╫──|0>──╫─┤M├\n",
       "              ┌───┐└───┘└─┬─┘ ║  ║  └╥┘  ║  ┌─┐  ║ └╥┘\n",
       "         q_4: ┤ X ├───────■───╫──╫───╫───╫──┤M├──╫──╫─\n",
       "              └───┘           ║  ║   ║   ║  └╥┘  ║  ║ \n",
       "    m_mcm0: 2/════════════════╬══╩═══╩═══╬═══╬═══╬══╬═\n",
       "                              ║  0   1   ║   ║   ║  ║ \n",
       "m_meas_all: 5/════════════════╩══════════╩═══╩═══╩══╩═\n",
       "                              0          2   4   1  3 </pre>"
      ],
      "text/plain": [
       "              ┌───┐          ┌─┐                      \n",
       "         q_0: ┤ X ├──■───────┤M├──────────────────────\n",
       "              └───┘┌─┴─┐┌───┐└╥┘┌─┐             ┌─┐   \n",
       "         q_1: ─────┤ X ├┤ X ├─╫─┤M├─|0>─────────┤M├───\n",
       "              ┌───┐└───┘└─┬─┘ ║ └╥┘     ┌─┐     └╥┘   \n",
       "         q_2: ┤ X ├──■────■───╫──╫──────┤M├──────╫────\n",
       "              └───┘┌─┴─┐┌───┐ ║  ║  ┌─┐ └╥┘      ║ ┌─┐\n",
       "         q_3: ─────┤ X ├┤ X ├─╫──╫──┤M├──╫──|0>──╫─┤M├\n",
       "              ┌───┐└───┘└─┬─┘ ║  ║  └╥┘  ║  ┌─┐  ║ └╥┘\n",
       "         q_4: ┤ X ├───────■───╫──╫───╫───╫──┤M├──╫──╫─\n",
       "              └───┘           ║  ║   ║   ║  └╥┘  ║  ║ \n",
       "    m_mcm0: 2/════════════════╬══╩═══╩═══╬═══╬═══╬══╬═\n",
       "                              ║  0   1   ║   ║   ║  ║ \n",
       "m_meas_all: 5/════════════════╩══════════╩═══╩═══╩══╩═\n",
       "                              0          2   4   1  3 "
      ]
     },
     "execution_count": 7,
     "metadata": {},
     "output_type": "execute_result"
    }
   ],
   "source": [
    "bc_ckt = bc.qiskit_circuit()\n",
    "bc_ckt.draw()"
   ]
  },
  {
   "cell_type": "code",
   "execution_count": 8,
   "id": "586643c2-2760-4b89-b617-0c03feca59d6",
   "metadata": {},
   "outputs": [],
   "source": [
    "job =  backend.run(bc_ckt,shots=1000)"
   ]
  },
  {
   "cell_type": "code",
   "execution_count": 9,
   "id": "14b853b7-4c83-4186-9857-4df7c9bf860e",
   "metadata": {},
   "outputs": [
    {
     "name": "stdout",
     "output_type": "stream",
     "text": [
      "{'10101 00': 1000}\n"
     ]
    }
   ],
   "source": [
    "res = job.result().get_counts()\n",
    "print(res)"
   ]
  },
  {
   "cell_type": "code",
   "execution_count": 10,
   "id": "e52dc6d5-6f91-4ea2-ae37-f6c4cfda3a6e",
   "metadata": {},
   "outputs": [
    {
     "data": {
      "text/plain": [
       "Result(backend_name='basic_simulator', backend_version='0.1', qobj_id='e6d35e93-ccbc-47b4-b313-7afa960da7b9', job_id='999595a0-56c6-4932-8be8-5c62e1dd8120', success=True, results=[ExperimentResult(shots=1000, success=True, meas_level=2, data=ExperimentResultData(counts={'0x54': 1000}), header=QobjExperimentHeader(qubit_labels=[['q', 0], ['q', 1], ['q', 2], ['q', 3], ['q', 4]], n_qubits=5, qreg_sizes=[['q', 5]], clbit_labels=[['m_mcm0', 0], ['m_mcm0', 1], ['m_meas_all', 0], ['m_meas_all', 1], ['m_meas_all', 2], ['m_meas_all', 3], ['m_meas_all', 4]], memory_slots=7, creg_sizes=[['m_mcm0', 2], ['m_meas_all', 5]], name='circuit-162', global_phase=0.0, metadata={}), status=DONE, name='circuit-162', seed_simulator=1903316037, time_taken=0.16181373596191406)], date=None, status=COMPLETED, header=QobjHeader(backend_name='basic_simulator', backend_version='0.1'), time_taken=0.16182446479797363)"
      ]
     },
     "execution_count": 10,
     "metadata": {},
     "output_type": "execute_result"
    }
   ],
   "source": [
    "job.result()"
   ]
  },
  {
   "cell_type": "code",
   "execution_count": null,
   "id": "d22e96d8-e0d7-4f43-b808-797733a22de8",
   "metadata": {},
   "outputs": [],
   "source": []
  }
 ],
 "metadata": {
  "kernelspec": {
   "display_name": "Python 3 (ipykernel)",
   "language": "python",
   "name": "python3"
  },
  "language_info": {
   "codemirror_mode": {
    "name": "ipython",
    "version": 3
   },
   "file_extension": ".py",
   "mimetype": "text/x-python",
   "name": "python",
   "nbconvert_exporter": "python",
   "pygments_lexer": "ipython3",
   "version": "3.10.0"
  }
 },
 "nbformat": 4,
 "nbformat_minor": 5
}
